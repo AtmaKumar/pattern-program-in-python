{
  "nbformat": 4,
  "nbformat_minor": 0,
  "metadata": {
    "colab": {
      "provenance": []
    },
    "kernelspec": {
      "name": "python3",
      "display_name": "Python 3"
    },
    "language_info": {
      "name": "python"
    }
  },
  "cells": [
    {
      "cell_type": "code",
      "source": [
        "for i in range(2,5):\n",
        "  for j in range(1,11):\n",
        "    print(i*j,end=\" \")\n",
        "  print()"
      ],
      "metadata": {
        "id": "yISSzaskPm12",
        "colab": {
          "base_uri": "https://localhost:8080/"
        },
        "outputId": "e7baa15b-0c39-4e0f-b117-6a00158acbb7"
      },
      "execution_count": 32,
      "outputs": [
        {
          "output_type": "stream",
          "name": "stdout",
          "text": [
            "2 4 6 8 10 12 14 16 18 20 \n",
            "3 6 9 12 15 18 21 24 27 30 \n",
            "4 8 12 16 20 24 28 32 36 40 \n"
          ]
        }
      ]
    },
    {
      "cell_type": "code",
      "source": [
        "print(\"India\",end=\" \")\n",
        "print(\"Nepal\")\n",
        "print(\"Delhi\")"
      ],
      "metadata": {
        "colab": {
          "base_uri": "https://localhost:8080/"
        },
        "id": "ErtvPlBzIAtw",
        "outputId": "a9f23285-7cbe-43f0-8f75-61e7b8cd9829"
      },
      "execution_count": 20,
      "outputs": [
        {
          "output_type": "stream",
          "name": "stdout",
          "text": [
            "India Nepal\n",
            "Delhi\n"
          ]
        }
      ]
    },
    {
      "cell_type": "code",
      "source": [
        "print(\"Ajay\",end=\" \")\n",
        "print(\"Ram\",end=\" \")\n",
        "print()\n",
        "print(\"Umang\",end=\" \")"
      ],
      "metadata": {
        "colab": {
          "base_uri": "https://localhost:8080/"
        },
        "id": "E6YfX6KgIAw4",
        "outputId": "fb002757-f68a-4719-b569-570e121391cf"
      },
      "execution_count": 27,
      "outputs": [
        {
          "output_type": "stream",
          "name": "stdout",
          "text": [
            "Ajay Ram \n",
            "Umang "
          ]
        }
      ]
    },
    {
      "cell_type": "code",
      "source": [],
      "metadata": {
        "id": "ZG2alUfsI5e5"
      },
      "execution_count": null,
      "outputs": []
    },
    {
      "cell_type": "code",
      "source": [],
      "metadata": {
        "id": "8VuJtd-LI5h0"
      },
      "execution_count": null,
      "outputs": []
    },
    {
      "cell_type": "code",
      "source": [],
      "metadata": {
        "id": "-HeEL-I1H2Jf"
      },
      "execution_count": null,
      "outputs": []
    }
  ]
}